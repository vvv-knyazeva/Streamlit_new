{
 "cells": [
  {
   "cell_type": "code",
   "execution_count": null,
   "id": "ccb1931c-97b5-49d2-a510-457fafb1cf62",
   "metadata": {},
   "outputs": [],
   "source": [
    "import streamlit as st\n",
    "\n",
    "# Загрузка предобученной модели Inception\n",
    "model = models.inception_v3(pretrained=True)\n",
    "\n",
    "# Главная страница\n",
    "def main():\n",
    "    st.title(\"Image Classification with Inception\")\n",
    "    st.write(\"This app uses a pre-trained Inception model from PyTorch to classify images from the ImageNet dataset.\")\n",
    "\n",
    "    # Форма загрузки изображения\n",
    "    file = st.file_uploader(\"Upload an image\", type=[\"jpg\", \"jpeg\", \"png\"])\n",
    "\n",
    "    if file is not None:\n",
    "        image = Image.open(file)\n",
    "        st.image(image, caption=\"Uploaded Image\", use_column_width=True)\n",
    "        result = predict_image(image)\n",
    "        st.write(result)\n",
    "\n",
    "if __name__ == \"__main__\":\n",
    "    main()"
   ]
  },
  {
   "cell_type": "code",
   "execution_count": null,
   "id": "962cc54b-5383-49b1-88d2-1b62e6c8b79a",
   "metadata": {},
   "outputs": [],
   "source": []
  },
  {
   "cell_type": "code",
   "execution_count": null,
   "id": "bc2cc4f1-34a1-4163-b88d-5f6f58e6c355",
   "metadata": {},
   "outputs": [],
   "source": []
  },
  {
   "cell_type": "code",
   "execution_count": null,
   "id": "8de358a1-e132-486c-843c-f317d2aa1855",
   "metadata": {},
   "outputs": [],
   "source": []
  }
 ],
 "metadata": {
  "kernelspec": {
   "display_name": "Python 3 (ipykernel)",
   "language": "python",
   "name": "python3"
  },
  "language_info": {
   "codemirror_mode": {
    "name": "ipython",
    "version": 3
   },
   "file_extension": ".py",
   "mimetype": "text/x-python",
   "name": "python",
   "nbconvert_exporter": "python",
   "pygments_lexer": "ipython3",
   "version": "3.10.9"
  }
 },
 "nbformat": 4,
 "nbformat_minor": 5
}
